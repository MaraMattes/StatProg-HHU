{
 "cells": [
  {
   "cell_type": "markdown",
   "metadata": {},
   "source": [
    "---\n",
    "title: \"Topics in Econometrics and Data Science: Tutorial 1\"\n",
    "\n",
    "---\n",
    "\n",
    "#### General Note\n",
    "\n",
    "You will very likely find the solution to these exercises online. We, however, strongly encourage you to work on these exercises without doing so. Understanding someone else’s solution is very different from coming up with your own. Use the lecture notes and try to solve the exercises independently."
   ]
  },
  {
   "cell_type": "markdown",
   "metadata": {},
   "source": [
    "Traditionally, the first program you write in a new language is called \"Hello World!\". Use the `print()` statement to display \"*Hello World!*\" on the screen.\n",
    "\n",
    "* **Hint**: `help(print)`"
   ]
  },
  {
   "cell_type": "code",
   "execution_count": 273,
   "metadata": {},
   "outputs": [
    {
     "name": "stdout",
     "output_type": "stream",
     "text": [
      "hello world\n"
     ]
    }
   ],
   "source": [
    "# help(print)\n",
    "print(\"hello world\")"
   ]
  },
  {
   "cell_type": "markdown",
   "metadata": {},
   "source": [
    "# Section: Basis\n",
    "\n",
    "## Exercise 1: Calculations\n",
    "\n",
    "Use Python as you would a calculator to find the numeric answers\n",
    "\n",
    "1. $1+2(3+4)$\n",
    "2. $4^3+3^{2+1}$\n",
    "3. $\\frac{1+2}{3+4}$\n",
    "4. $\\sqrt{(4+3)(2+1)}$\n",
    "5. $\\sin(\\pi)+\\cos(\\pi)$\n",
    "6. $\\exp(0) \\log(2)$\n",
    "\n",
    "**Hint**: Import the *math* module"
   ]
  },
  {
   "cell_type": "code",
   "execution_count": 274,
   "metadata": {},
   "outputs": [],
   "source": [
    "import math"
   ]
  },
  {
   "cell_type": "code",
   "execution_count": 275,
   "metadata": {},
   "outputs": [
    {
     "data": {
      "text/plain": [
       "15"
      ]
     },
     "execution_count": 275,
     "metadata": {},
     "output_type": "execute_result"
    }
   ],
   "source": [
    "# 1.\n",
    "1+2*(3+4)"
   ]
  },
  {
   "cell_type": "code",
   "execution_count": 276,
   "metadata": {},
   "outputs": [
    {
     "data": {
      "text/plain": [
       "91"
      ]
     },
     "execution_count": 276,
     "metadata": {},
     "output_type": "execute_result"
    }
   ],
   "source": [
    "# 2.\n",
    "4**3+3**(2+1)"
   ]
  },
  {
   "cell_type": "code",
   "execution_count": 277,
   "metadata": {},
   "outputs": [
    {
     "data": {
      "text/plain": [
       "0.42857142857142855"
      ]
     },
     "execution_count": 277,
     "metadata": {},
     "output_type": "execute_result"
    }
   ],
   "source": [
    "# 3. \n",
    "(1+2)/(3+4)"
   ]
  },
  {
   "cell_type": "code",
   "execution_count": 278,
   "metadata": {},
   "outputs": [
    {
     "data": {
      "text/plain": [
       "4.58257569495584"
      ]
     },
     "execution_count": 278,
     "metadata": {},
     "output_type": "execute_result"
    }
   ],
   "source": [
    "# 4.\n",
    "math.sqrt((4+3)*(2+1))"
   ]
  },
  {
   "cell_type": "code",
   "execution_count": 279,
   "metadata": {},
   "outputs": [
    {
     "data": {
      "text/plain": [
       "-0.9999999999999999"
      ]
     },
     "execution_count": 279,
     "metadata": {},
     "output_type": "execute_result"
    }
   ],
   "source": [
    "# 5.\n",
    "math.sin(math.pi)+math.cos(math.pi)"
   ]
  },
  {
   "cell_type": "code",
   "execution_count": 280,
   "metadata": {},
   "outputs": [
    {
     "data": {
      "text/plain": [
       "0.6931471805599453"
      ]
     },
     "execution_count": 280,
     "metadata": {},
     "output_type": "execute_result"
    }
   ],
   "source": [
    "#6.\n",
    "math.exp(0)*math.log(2)"
   ]
  },
  {
   "cell_type": "markdown",
   "metadata": {},
   "source": [
    "## Exercise 2: Lists\n",
    "\n",
    "1. Given a list of integers, output `“True”` if the first and last number of the list are the same (else output `“False”`)."
   ]
  },
  {
   "cell_type": "code",
   "execution_count": 304,
   "metadata": {},
   "outputs": [
    {
     "name": "stdout",
     "output_type": "stream",
     "text": [
      "True\n"
     ]
    }
   ],
   "source": [
    "list1 = [1,23,4,123,2,3,5,6,1]\n",
    "if (list1[0] == list1[-1]):\n",
    "    print(\"True\")\n",
    "else:\n",
    "    print(\"False\")   \n"
   ]
  },
  {
   "cell_type": "markdown",
   "metadata": {},
   "source": [
    "2. Given a list of numbers, print only those numbers that can be divided by 5 without residual. "
   ]
  },
  {
   "cell_type": "code",
   "execution_count": 282,
   "metadata": {},
   "outputs": [
    {
     "name": "stdout",
     "output_type": "stream",
     "text": [
      "5\n",
      "10\n"
     ]
    }
   ],
   "source": [
    "list2 = [1,23,4,123,2,3,5,6,10]\n",
    "for i in list2:\n",
    "    if i%5 == 0:\n",
    "        print(i)"
   ]
  },
  {
   "cell_type": "markdown",
   "metadata": {},
   "source": [
    "3. Write a program that combines two lists by alternatingly taking elements, e.g. `[\"a\",\"b\",\"c\"], [1,2,3] → [\"a\",1,\"b\",2,\"c\",3]`"
   ]
  },
  {
   "cell_type": "code",
   "execution_count": 283,
   "metadata": {},
   "outputs": [
    {
     "name": "stdout",
     "output_type": "stream",
     "text": [
      "3\n",
      "3\n",
      "6\n",
      "['a', 1, 'b', 2, 'c', 3]\n"
     ]
    }
   ],
   "source": [
    "list4 = ['a','b','c']\n",
    "list5 = [1,2,3]\n",
    "list6 = []\n",
    "for i in range(0,len(list5)):\n",
    "    list6.append(list4[i])\n",
    "    list6.append(list5[i])\n",
    "print(len(list4))\n",
    "print(len(list5))\n",
    "print(len(list6))\n",
    "print(list6)"
   ]
  },
  {
   "cell_type": "markdown",
   "metadata": {},
   "source": [
    "4. Let a small data set be\n",
    "$$5\\ 2\\ 11\\ 19\\ 6.$$\n",
    "\n",
    "* Enter these numbers into a list `x_list`.\n",
    "* Find the square of each number and enter these numbers into a list  `x_square`."
   ]
  },
  {
   "cell_type": "code",
   "execution_count": 284,
   "metadata": {},
   "outputs": [
    {
     "data": {
      "text/plain": [
       "[0, 0, 0, 0, 0]"
      ]
     },
     "execution_count": 284,
     "metadata": {},
     "output_type": "execute_result"
    }
   ],
   "source": [
    "x_list = [5, 2, 11, 19, 6]\n",
    "# empty list\n",
    "x_square = [0]*len(x_list)\n",
    "x_square"
   ]
  },
  {
   "cell_type": "code",
   "execution_count": 285,
   "metadata": {},
   "outputs": [
    {
     "name": "stdout",
     "output_type": "stream",
     "text": [
      "[25, 4, 121, 361, 36]\n"
     ]
    }
   ],
   "source": [
    "for i in range(len(x_list)):\n",
    "    x_square[i]=x_list[i]**2\n",
    "print(x_square)\n",
    "\n",
    "# Or short-hand notation\n",
    "x_square2 = [i**2 for i in x_list]"
   ]
  },
  {
   "cell_type": "markdown",
   "metadata": {},
   "source": [
    "## Exercise 3: Tuples, Lists and Dictionaries\n",
    "\n",
    "Consider the screenhot in @fig-wiki-list taken from [wikipedia.org](https://en.wikipedia.org/wiki/List_of_heaviest_land_mammals).\n",
    "\n",
    "![List of heaviest land mammals.](https://maramattes.github.io/StatProg-HHU/tutorial/tutorial-1/wiki_list.png){#fig-wiki-list}\n",
    "\n",
    "1. Which Python data types could you use in principle to collect ...\n",
    "\n",
    "    * ... the names of the five heaviest mammals? Implement it in every possible data type. Write a program that outputs the first, the second and the fifth of the heaviest mammals.\n",
    "\n",
    "    * ... the names *and* the (maximum) mass of the mammals? Again, implement it in every possible data type and write a program that outputs the name and the maximum mass of the first, the second and the fifth heaviest mammal"
   ]
  },
  {
   "cell_type": "code",
   "execution_count": 286,
   "metadata": {},
   "outputs": [
    {
     "name": "stdout",
     "output_type": "stream",
     "text": [
      "African bush elephant\n",
      "Asian elephant\n",
      "Indian rhinoceros\n",
      "African bush elephant\n",
      "Asian elephant\n",
      "Indian rhinoceros\n",
      "African bush elephant\n",
      "Asian elephant\n",
      "Indian rhinoceros\n",
      "['African bush elephant', 'Asian elephant', 'Indian rhinoceros']\n"
     ]
    }
   ],
   "source": [
    "# Tuple\n",
    "mammals_names1 = (\"African bush elephant\", \"Asian elephant\", \"African forest elephant\", \"White rhinoceros\", \"Indian rhinoceros\")\n",
    "\n",
    "# List\n",
    "mammals_names2 = [\"African bush elephant\", \"Asian elephant\", \"African forest elephant\", \"White rhinoceros\", \"Indian rhinoceros\"]\n",
    "\n",
    "# Dictionary\n",
    "mammals_names3 = {'names': [\"African bush elephant\", \"Asian elephant\", \"African forest elephant\", \"White rhinoceros\", \"Indian rhinoceros\"]}\n",
    "\n",
    "mammals_names1[0]\n",
    "mammals_names1[1]\n",
    "mammals_names1[4]\n",
    "\n",
    "mammals_names2[0]\n",
    "mammals_names2[1]\n",
    "mammals_names2[4]\n",
    "\n",
    "mammals_names3['names'][0]\n",
    "mammals_names3['names'][1]\n",
    "mammals_names3['names'][4]\n",
    "\n",
    "\n",
    "# Manual index provision (tuple)\n",
    "for i in [0,1,4]:\n",
    "    print(mammals_names1[i]) \n",
    "\n",
    "# Manual index provision (list)\n",
    "for i in [0,1,4]:\n",
    "    print(mammals_names2[i])\n",
    "\n",
    "# Manual index provision (dictionary)\n",
    "for i in [0,1,4]:\n",
    "    print(mammals_names3['names'][i])\n",
    "\n",
    "# Short hand loop (one-liner) (\"list comprehension\")\n",
    "print([mammals_names1[i] for i in [0,1,4]])"
   ]
  },
  {
   "cell_type": "code",
   "execution_count": 287,
   "metadata": {},
   "outputs": [],
   "source": [
    "# Nested tuple\n",
    "mammals1 = ((\"African bush elephant\",8000), (\"Asian elephant\", 5000), (\"African forest elephant\", 4000), (\"White rhinoceros\", 3600), (\"Indian rhinoceros\", 3000))\n",
    "\n",
    "# Nested list\n",
    "mammals2 = [[\"African bush elephant\",8000], [\"Asian elephant\", 5000], [\"African forest elephant\", 4000], [\"White rhinoceros\", 3600], [\"Indian rhinoceros\", 3000]]"
   ]
  },
  {
   "cell_type": "code",
   "execution_count": 288,
   "metadata": {},
   "outputs": [
    {
     "name": "stdout",
     "output_type": "stream",
     "text": [
      "('African bush elephant', 8000)\n",
      "('Asian elephant', 5000)\n",
      "('Indian rhinoceros', 3000)\n",
      "['African bush elephant', 8000]\n",
      "['Asian elephant', 5000]\n",
      "['Indian rhinoceros', 3000]\n"
     ]
    }
   ],
   "source": [
    "# Manual index provision (tuple)\n",
    "for i in [0,1,4]:\n",
    "    print(mammals1[i])\n",
    "\n",
    "# Manual index provision (list)\n",
    "for i in [0,1,4]:\n",
    "    print(mammals2[i])"
   ]
  },
  {
   "cell_type": "code",
   "execution_count": 289,
   "metadata": {},
   "outputs": [
    {
     "name": "stdout",
     "output_type": "stream",
     "text": [
      "['African bush elephant', 8000]\n",
      "['African forest elephant', 4000]\n",
      "['Indian rhinoceros', 3000]\n"
     ]
    }
   ],
   "source": [
    "# Print every second mammal (list)\n",
    "for i in range(0, len(mammals2), 2):\n",
    "    print(mammals2[i])"
   ]
  },
  {
   "cell_type": "code",
   "execution_count": 290,
   "metadata": {},
   "outputs": [
    {
     "name": "stdout",
     "output_type": "stream",
     "text": [
      "{'Name': ['African bush elephant', 'Asian elephant', 'African forest elephant', 'White rhinoceros', 'Indian rhinoceros'], 'Mass': [8000, 5000, 4000, 3600, 3000]}\n",
      "African bush elephant\n",
      "Asian elephant\n",
      "8000\n",
      "5000\n"
     ]
    }
   ],
   "source": [
    "# Dictionary (with lists)\n",
    "mammals_mass2 = [8000, 5000, 4000, 3600, 3000]\n",
    "\n",
    "mammals3 = {\"Name\": mammals_names2,\n",
    "            \"Mass\": mammals_mass2}\n",
    "\n",
    "print(mammals3)\n",
    "\n",
    "print(mammals3[\"Name\"][0])\n",
    "print(mammals3[\"Name\"][1])\n",
    "\n",
    "print(mammals3[\"Mass\"][0])\n",
    "print(mammals3[\"Mass\"][1])"
   ]
  },
  {
   "cell_type": "code",
   "execution_count": 291,
   "metadata": {},
   "outputs": [
    {
     "name": "stdout",
     "output_type": "stream",
     "text": [
      "8000\n",
      "dict_items([('African bush elephant', 8000), ('Asian elephant', 5000), ('African forest elephant', 4000), ('White rhinoceros', 3600), ('Indian rhinoceros', 3000)])\n",
      "[('African bush elephant', 8000), ('Asian elephant', 5000), ('African forest elephant', 4000), ('White rhinoceros', 3600), ('Indian rhinoceros', 3000)]\n",
      "('African bush elephant', 8000)\n",
      "('Asian elephant', 5000)\n"
     ]
    }
   ],
   "source": [
    "mammals4 = {\"African bush elephant\" : 8000,\n",
    "    \"Asian elephant\" : 5000,\n",
    "    \"African forest elephant\" : 4000,\n",
    "    \"White rhinoceros\" : 3600,\n",
    "    \"Indian rhinoceros\": 3000\n",
    "}\n",
    "# doesn't work\n",
    "# mammals4[0]\n",
    "print(mammals4['African bush elephant'])\n",
    "\n",
    "print(mammals4.items())\n",
    "print(list(mammals4.items()))\n",
    "print(list(mammals4.items())[0])\n",
    "print(list(mammals4.items())[1])"
   ]
  },
  {
   "cell_type": "code",
   "execution_count": 292,
   "metadata": {},
   "outputs": [
    {
     "name": "stdout",
     "output_type": "stream",
     "text": [
      "[['African bush elephant', 8000], ['Asian elephant', 5000], ['African forest elephant', 4000], ['White rhinoceros', 3600], ['Indian rhinoceros', 3000]]\n",
      "[{'Name': 'African bush elephant', 'Mass': 8000}, {'Name': 'Asian elephant', 'Mass': 5000}, {'Name': 'African forest elephant', 'Mass': 4000}, {'Name': 'White rhinoceros', 'Mass': 3600}, {'Name': 'Indian rhinoceros', 'Mass': 3000}]\n"
     ]
    }
   ],
   "source": [
    "# List of dictionary\n",
    "print(mammals2)\n",
    "mammals_list_with_dict = []\n",
    "for i in range(0, len(mammals2)):\n",
    "    a_dict = {\"Name\": mammals2[i][0], \"Mass\": mammals2[i][1]}\n",
    "    mammals_list_with_dict.append(a_dict)\n",
    "\n",
    "print(mammals_list_with_dict)"
   ]
  },
  {
   "cell_type": "code",
   "execution_count": 293,
   "metadata": {},
   "outputs": [
    {
     "name": "stdout",
     "output_type": "stream",
     "text": [
      "{0: ['African bush elephant', 8000], 1: ['Asian elephant', 5000], 2: ['African forest elephant', 4000], 3: ['White rhinoceros', 3600], 4: ['Indian rhinoceros', 3000]}\n",
      "['African bush elephant', 8000]\n",
      "['Asian elephant', 5000]\n",
      "['Indian rhinoceros', 3000]\n"
     ]
    }
   ],
   "source": [
    "# Dictionary from list\n",
    "mammals_dict_from_list = {i : mammals2[i] for i in range(0, len(mammals2) ) }\n",
    "\n",
    "print(mammals_dict_from_list)\n",
    "\n",
    "for i in [0,1,4]:\n",
    "    print(mammals_dict_from_list[i])"
   ]
  },
  {
   "cell_type": "code",
   "execution_count": 294,
   "metadata": {},
   "outputs": [
    {
     "data": {
      "text/plain": [
       "{'African bush elephant': 8000,\n",
       " 'Asian elephant': 5000,\n",
       " 'African forest elephant': 4000,\n",
       " 'White rhinoceros': 3600,\n",
       " 'Indian rhinoceros': 3000}"
      ]
     },
     "execution_count": 294,
     "metadata": {},
     "output_type": "execute_result"
    }
   ],
   "source": [
    "mammals_dict_from_list2 = {mammals2[i][0] : mammals2[i][1] for i in range(0, len(mammals2) ) }\n",
    "mammals_dict_from_list2"
   ]
  },
  {
   "cell_type": "code",
   "execution_count": 295,
   "metadata": {},
   "outputs": [
    {
     "data": {
      "text/plain": [
       "['African bush elephant',\n",
       " 'Asian elephant',\n",
       " 'African forest elephant',\n",
       " 'White rhinoceros',\n",
       " 'Indian rhinoceros']"
      ]
     },
     "execution_count": 295,
     "metadata": {},
     "output_type": "execute_result"
    }
   ],
   "source": [
    "# getting list from dict\n",
    "list(mammals4.keys())"
   ]
  },
  {
   "cell_type": "code",
   "execution_count": 296,
   "metadata": {},
   "outputs": [
    {
     "data": {
      "text/plain": [
       "{'African bush elephant': 123,\n",
       " 'Asian elephant': [8000, 5000, 4000, 3600, 3000],\n",
       " 'African forest elephant': [8000, 5000, 4000, 3600, 3000],\n",
       " 'White rhinoceros': [8000, 5000, 4000, 3600, 3000],\n",
       " 'Indian rhinoceros': [8000, 5000, 4000, 3600, 3000]}"
      ]
     },
     "execution_count": 296,
     "metadata": {},
     "output_type": "execute_result"
    }
   ],
   "source": [
    "# using dict()\n",
    "mammals_dict_from_list3 = dict.fromkeys(mammals_names2, mammals_mass2)\n",
    "mammals_dict_from_list3['African bush elephant'] = 123 # or in loop\n",
    "mammals_dict_from_list3"
   ]
  },
  {
   "cell_type": "code",
   "execution_count": 297,
   "metadata": {},
   "outputs": [
    {
     "data": {
      "text/plain": [
       "{'African bush elephant': 8000,\n",
       " 'Asian elephant': 5000,\n",
       " 'African forest elephant': 4000,\n",
       " 'White rhinoceros': 3600,\n",
       " 'Indian rhinoceros': 3000}"
      ]
     },
     "execution_count": 297,
     "metadata": {},
     "output_type": "execute_result"
    }
   ],
   "source": [
    "mammals_dict_from_list2  = dict(zip(mammals_names2, mammals_mass2))\n",
    "mammals_dict_from_list2"
   ]
  },
  {
   "cell_type": "markdown",
   "metadata": {},
   "source": [
    "2. Based on Part 1., consider the following problems. Discuss/show whether and how you could solve them with the different data type implementations.\n",
    "    * Consider the names of the heaviest mammals only. A researcher wants to sort the names of the heaviest animals according to their alphabetical order. Create a new list called `mammals_names_sorted`. What happens do the original list of names, if you use Python's `.sort()` method for lists?\n",
    "    \n",
    "    * A new study reports the observation of a new species called \"Giant Australian hamster\" with a mass of 5000 kg. Insert this observation in your list. **Hint**: Use Python's `.insert()` method for lists.\n",
    "\n",
    "    * Now, consider the list of the mammals' name *and* mass. A new study reports that an African bush elephant with a mass of 10000 kg has been observed. Update the list of heaviest mammals in the solutions from Part 1. (if possible)."
   ]
  },
  {
   "cell_type": "code",
   "execution_count": 298,
   "metadata": {},
   "outputs": [
    {
     "name": "stdout",
     "output_type": "stream",
     "text": [
      "['African bush elephant', 'African forest elephant', 'Asian elephant', 'Indian rhinoceros', 'White rhinoceros']\n",
      "['African bush elephant', 'Asian elephant', 'African forest elephant', 'White rhinoceros', 'Indian rhinoceros']\n"
     ]
    }
   ],
   "source": [
    "mammals_names_sorted = mammals_names2.copy()\n",
    "mammals_names_sorted.sort()\n",
    "print(mammals_names_sorted)\n",
    "print(mammals_names2)"
   ]
  },
  {
   "cell_type": "code",
   "execution_count": 299,
   "metadata": {},
   "outputs": [
    {
     "name": "stdout",
     "output_type": "stream",
     "text": [
      "['African bush elephant', 'African forest elephant', 'Asian elephant', 'Indian rhinoceros', 'White rhinoceros']\n"
     ]
    }
   ],
   "source": [
    "# Sort lists and tuples with sorted()\n",
    "mammals_names_sorted = sorted(mammals_names2)\n",
    "print(mammals_names_sorted)"
   ]
  },
  {
   "cell_type": "code",
   "execution_count": 300,
   "metadata": {},
   "outputs": [
    {
     "name": "stdout",
     "output_type": "stream",
     "text": [
      "[['African bush elephant', 8000], ['Giant Australian hamster', 5000], ['Asian elephant', 5000], ['African forest elephant', 4000], ['White rhinoceros', 3600], ['Indian rhinoceros', 3000]]\n"
     ]
    }
   ],
   "source": [
    "mammals2.insert(1, [\"Giant Australian hamster\", 5000])\n",
    "print(mammals2)"
   ]
  },
  {
   "cell_type": "code",
   "execution_count": 301,
   "metadata": {},
   "outputs": [
    {
     "data": {
      "text/plain": [
       "[['African bush elephant', 10000],\n",
       " ['Giant Australian hamster', 5000],\n",
       " ['Asian elephant', 5000],\n",
       " ['African forest elephant', 4000],\n",
       " ['White rhinoceros', 3600],\n",
       " ['Indian rhinoceros', 3000]]"
      ]
     },
     "execution_count": 301,
     "metadata": {},
     "output_type": "execute_result"
    }
   ],
   "source": [
    "mammals2[0][1] = 10000\n",
    "mammals2"
   ]
  },
  {
   "cell_type": "code",
   "execution_count": null,
   "metadata": {},
   "outputs": [],
   "source": [
    "# dictionary\n",
    "mammals4['African bush elephant'] = 10000\n",
    "mammals4"
   ]
  }
 ],
 "metadata": {
  "kernelspec": {
   "display_name": "base",
   "language": "python",
   "name": "python3"
  },
  "language_info": {
   "codemirror_mode": {
    "name": "ipython",
    "version": 3
   },
   "file_extension": ".py",
   "mimetype": "text/x-python",
   "name": "python",
   "nbconvert_exporter": "python",
   "pygments_lexer": "ipython3",
   "version": "3.10.16"
  }
 },
 "nbformat": 4,
 "nbformat_minor": 4
}
