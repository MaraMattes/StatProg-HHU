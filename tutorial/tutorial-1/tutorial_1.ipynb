{
  "cells": [
    {
      "cell_type": "markdown",
      "metadata": {},
      "source": [
        "---\n",
        "title: \"Topics in Econometrics and Data Science: Tutorial 1\"\n",
        "\n",
        "---\n",
        "\n",
        "#### General Note\n",
        "\n",
        "You will very likely find the solution to these exercises online. We, however, strongly encourage you to work on these exercises without doing so. Understanding someone else’s solution is very different from coming up with your own. Use the lecture notes and try to solve the exercises independently."
      ]
    },
    {
      "cell_type": "markdown",
      "metadata": {},
      "source": [
        "Traditionally, the first program you write in a new language is called \"Hello World!\". Use the `print()` statement to display \"*Hello World!*\" on the screen.\n",
        "\n",
        "* **Hint**: `help(print)`"
      ]
    },
    {
      "cell_type": "code",
      "execution_count": null,
      "metadata": {},
      "outputs": [],
      "source": [
        "# help(print)\n",
        "print(\"hello world\")"
      ]
    },
    {
      "cell_type": "markdown",
      "metadata": {},
      "source": [
        "# Section: Basis\n",
        "\n",
        "## Exercise 1: Calculations\n",
        "\n",
        "Use Python as you would a calculator to find the numeric answers\n",
        "\n",
        "1. $1+2(3+4)$\n",
        "2. $4^3+3^{2+1}$\n",
        "3. $\\frac{1+2}{3+4}$\n",
        "4. $\\sqrt{(4+3)(2+1)}$\n",
        "5. $\\sin(\\pi)+\\cos(\\pi)$\n",
        "6. $\\exp(0) \\log(2)$\n",
        "\n",
        "**Hint**: Import the *math* module"
      ]
    },
    {
      "cell_type": "code",
      "execution_count": null,
      "metadata": {},
      "outputs": [],
      "source": [
        "import math"
      ]
    },
    {
      "cell_type": "code",
      "execution_count": null,
      "metadata": {},
      "outputs": [],
      "source": []
    },
    {
      "cell_type": "markdown",
      "metadata": {},
      "source": [
        "## Exercise 2: Lists\n",
        "\n",
        "1. Given a list of integers, output `“True”` if the first and last number of the list are the same (else output `“False”`)."
      ]
    },
    {
      "cell_type": "code",
      "execution_count": null,
      "metadata": {},
      "outputs": [],
      "source": [
        "list1 = [1,23,4,123,2,3,5,6,2]\n"
      ]
    },
    {
      "cell_type": "markdown",
      "metadata": {},
      "source": [
        "2. Given a list of numbers, print only those numbers that can be divided by 5 without residual. "
      ]
    },
    {
      "cell_type": "code",
      "execution_count": null,
      "metadata": {},
      "outputs": [],
      "source": [
        "list2 = [1,23,4,123,2,3,5,6,10]"
      ]
    },
    {
      "cell_type": "markdown",
      "metadata": {},
      "source": [
        "3. Write a program that combines two lists by alternatingly taking elements, e.g. `[\"a\",\"b\",\"c\"], [1,2,3] → [\"a\",1,\"b\",2,\"c\",3]`"
      ]
    },
    {
      "cell_type": "code",
      "execution_count": null,
      "metadata": {},
      "outputs": [],
      "source": []
    },
    {
      "cell_type": "markdown",
      "metadata": {},
      "source": [
        "4. Let a small data set be\n",
        "$$5\\ 2\\ 11\\ 19\\ 6.$$\n",
        "\n",
        "* Enter these numbers into a list `x_list`.\n",
        "* Find the square of each number and enter these numbers into a list  `x_square`."
      ]
    },
    {
      "cell_type": "code",
      "execution_count": null,
      "metadata": {},
      "outputs": [],
      "source": []
    },
    {
      "cell_type": "markdown",
      "metadata": {},
      "source": [
        "## Exercise 3: Tuples, Lists and Dictionaries\n",
        "\n",
        "Consider the screenhot in @fig-wiki-list taken from [wikipedia.org](https://en.wikipedia.org/wiki/List_of_heaviest_land_mammals).\n",
        "\n",
        "![List of heaviest land mammals.](https://maramattes.github.io/StatProg-HHU/tutorial/tutorial-1/wiki_list.png){#fig-wiki-list}\n",
        "\n",
        "1. Which Python data types could you use in principle to collect ...\n",
        "\n",
        "    * ... the names of the five heaviest mammals? Implement it in every possible data type. Write a program that outputs the first, the second and the fifth of the heaviest mammals.\n",
        "\n",
        "    * ... the names *and* the (maximum) mass of the mammals? Again, implement it in every possible data type and write a program that outputs the name and the maximum mass of the first, the second and the fifth heaviest mammal"
      ]
    },
    {
      "cell_type": "code",
      "execution_count": null,
      "metadata": {},
      "outputs": [],
      "source": []
    },
    {
      "cell_type": "markdown",
      "metadata": {},
      "source": [
        "2. Based on Part 1., consider the following problems. Discuss/show whether and how you could solve them with the different data type implementations.\n",
        "    * Consider the names of the heaviest mammals only. A researcher wants to sort the names of the heaviest animals according to their alphabetical order. Create a new list called `mammals_names_sorted`. What happens do the original list of names, if you use Python's `.sort()` method for lists?\n",
        "    \n",
        "    * A new study reports the observation of a new species called \"Giant Australian hamster\" with a mass of 5000 kg. Insert this observation in your list. **Hint**: Use Python's `.insert()` method for lists.\n",
        "\n",
        "    * Now, consider the list of the mammals' name *and* mass. A new study reports that an African bush elephant with a mass of 10000 kg has been observed. Update the list of heaviest mammals in the solutions from Part 1. (if possible)."
      ]
    },
    {
      "cell_type": "code",
      "execution_count": null,
      "metadata": {},
      "outputs": [],
      "source": []
    }
  ],
  "metadata": {
    "kernelspec": {
      "display_name": "base",
      "language": "python",
      "name": "python3"
    },
    "language_info": {
      "codemirror_mode": {
        "name": "ipython",
        "version": 3
      },
      "file_extension": ".py",
      "mimetype": "text/x-python",
      "name": "python",
      "nbconvert_exporter": "python",
      "pygments_lexer": "ipython3",
      "version": "3.10.16"
    }
  },
  "nbformat": 4,
  "nbformat_minor": 4
}
