{
  "cells": [
    {
      "cell_type": "markdown",
      "metadata": {},
      "source": [
        "---\n",
        "title: \"Topics in Econometrics and Data Science: Tutorial 1\"\n",
        "\n",
        "---\n",
        "\n",
        "#### General Note\n",
        "\n",
        "You will very likely find the solution to these exercises online. We, however, strongly encourage you to work on these exercises without doing so. Understanding someone else’s solution is very different from coming up with your own. Use the lecture notes and try to solve the exercises independently."
      ]
    },
    {
      "cell_type": "markdown",
      "metadata": {},
      "source": [
        "Traditionally, the first program you write in a new language is called \"Hello World!\". Use the `print()` statement to display \"*Hello World!*\" on the screen.\n",
        "\n",
        "* **Hint**: `help(print)`"
      ]
    },
    {
      "cell_type": "code",
      "execution_count": null,
      "metadata": {},
      "outputs": [],
      "source": [
        "# help(print)\n",
        "print(\"hello world\")"
      ]
    },
    {
      "cell_type": "markdown",
      "metadata": {},
      "source": [
        "# Section: Basis\n",
        "\n",
        "## Exercise 1: Calculations\n",
        "\n",
        "Use Python as you would a calculator to find the numeric answers\n",
        "\n",
        "1. $1+2(3+4)$\n",
        "2. $4^3+3^{2+1}$\n",
        "3. $\\frac{1+2}{3+4}$\n",
        "4. $\\sqrt{(4+3)(2+1)}$\n",
        "5. $\\sin(\\pi)+\\cos(\\pi)$\n",
        "6. $\\exp(0) \\log(2)$\n",
        "\n",
        "**Hint**: Import the *math* module"
      ]
    },
    {
      "cell_type": "code",
      "execution_count": 2,
      "metadata": {},
      "outputs": [],
      "source": [
        "import math"
      ]
    },
    {
      "cell_type": "code",
      "execution_count": null,
      "metadata": {},
      "outputs": [],
      "source": []
    },
    {
      "cell_type": "markdown",
      "metadata": {},
      "source": [
        "## Exercise 2: Functions and Loops"
      ]
    },
    {
      "cell_type": "markdown",
      "metadata": {},
      "source": [
        "1. Write a function *module* that display if an integer is even or odd.  \n",
        "**Hint**: The % (modulo) operator yields the remainder from the division of the first argument by the second.\n",
        "Example:"
      ]
    },
    {
      "cell_type": "code",
      "execution_count": 8,
      "metadata": {},
      "outputs": [
        {
          "data": {
            "text/plain": [
              "2"
            ]
          },
          "execution_count": 8,
          "metadata": {},
          "output_type": "execute_result"
        }
      ],
      "source": [
        "8%3"
      ]
    },
    {
      "cell_type": "code",
      "execution_count": null,
      "metadata": {},
      "outputs": [],
      "source": []
    },
    {
      "cell_type": "markdown",
      "metadata": {},
      "source": [
        "2. Write a function *compare* that returns 1 if $x>y$, 0 if $x=y$ and -1 if $x<y$."
      ]
    },
    {
      "cell_type": "code",
      "execution_count": null,
      "metadata": {},
      "outputs": [],
      "source": []
    },
    {
      "cell_type": "markdown",
      "metadata": {},
      "source": [
        "3. The following program counts the number of times the letter a appears in a string:"
      ]
    },
    {
      "cell_type": "code",
      "execution_count": 11,
      "metadata": {},
      "outputs": [
        {
          "name": "stdout",
          "output_type": "stream",
          "text": [
            "3\n"
          ]
        }
      ],
      "source": [
        "word=\"banana\"\n",
        "count=0\n",
        "for letter in word:\n",
        "    if letter == \"a\":\n",
        "        count=count+1\n",
        "print(count)  "
      ]
    },
    {
      "cell_type": "markdown",
      "metadata": {},
      "source": [
        "Encapsulate this code in a function named *count(w,l,s)* that counts the number of times a letter $l$ appears in a word $w$. Additionally, $s$ gives the index in $w$ where it should start looking."
      ]
    },
    {
      "cell_type": "code",
      "execution_count": null,
      "metadata": {},
      "outputs": [
        {
          "data": {
            "text/plain": [
              "2"
            ]
          },
          "execution_count": 12,
          "metadata": {},
          "output_type": "execute_result"
        }
      ],
      "source": []
    },
    {
      "cell_type": "markdown",
      "metadata": {},
      "source": [
        "## Exercise 3: Lists\n",
        "\n",
        "1. Given a list of integers, output `“True”` if the first and last number of the list are the same (else output `“False”`)."
      ]
    },
    {
      "cell_type": "code",
      "execution_count": null,
      "metadata": {},
      "outputs": [],
      "source": [
        "list1 = [1,23,4,123,2,3,5,6,2]\n"
      ]
    },
    {
      "cell_type": "markdown",
      "metadata": {},
      "source": [
        "2. Given a list of numbers, print only those numbers that can be divided by 5 without residual. "
      ]
    },
    {
      "cell_type": "code",
      "execution_count": null,
      "metadata": {},
      "outputs": [],
      "source": [
        "list2 = [1,23,4,123,2,3,5,6,10]"
      ]
    },
    {
      "cell_type": "markdown",
      "metadata": {},
      "source": [
        "3. Write a program that combines two lists by alternatingly taking elements, e.g. `[\"a\",\"b\",\"c\"], [1,2,3] → [\"a\",1,\"b\",2,\"c\",3]`"
      ]
    },
    {
      "cell_type": "code",
      "execution_count": null,
      "metadata": {},
      "outputs": [],
      "source": []
    },
    {
      "cell_type": "markdown",
      "metadata": {},
      "source": [
        "4. Let a small data set be\n",
        "$$5\\ 2\\ 11\\ 19\\ 6.$$\n",
        "\n",
        "* Enter these numbers into a list `x_list`.\n",
        "* Find the square of each number and enter these numbers into a list  `x_square`."
      ]
    },
    {
      "cell_type": "code",
      "execution_count": null,
      "metadata": {},
      "outputs": [],
      "source": []
    }
  ],
  "metadata": {
    "kernelspec": {
      "display_name": "base",
      "language": "python",
      "name": "python3"
    },
    "language_info": {
      "codemirror_mode": {
        "name": "ipython",
        "version": 3
      },
      "file_extension": ".py",
      "mimetype": "text/x-python",
      "name": "python",
      "nbconvert_exporter": "python",
      "pygments_lexer": "ipython3",
      "version": "3.10.16"
    }
  },
  "nbformat": 4,
  "nbformat_minor": 4
}
