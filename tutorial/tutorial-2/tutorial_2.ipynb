{
  "cells": [
    {
      "cell_type": "markdown",
      "metadata": {},
      "source": [
        "---\n",
        "title: \"Topics in Econometrics and Data Science: Tutorial 2\"\n",
        "\n",
        "---\n",
        "\n",
        "#### General Note\n",
        "\n",
        "You will very likely find the solution to these exercises online. We, however, strongly encourage you to work on these exercises without doing so. Understanding someone else’s solution is very different from coming up with your own. Use the lecture notes and try to solve the exercises independently."
      ]
    },
    {
      "cell_type": "markdown",
      "metadata": {},
      "source": [
        "## Exercise 1: Functions\n",
        "\n",
        "a) Write a function `compare` that returns the value\n",
        "\n",
        "    * 1 if `x>y`,\n",
        "    * 0 if `x=y` and\n",
        "    * -1 if `x<y`."
      ]
    },
    {
      "cell_type": "code",
      "execution_count": null,
      "metadata": {},
      "outputs": [],
      "source": []
    },
    {
      "cell_type": "markdown",
      "metadata": {},
      "source": [
        "b) The following program counts the number of times the letter `a` appears in a string:"
      ]
    },
    {
      "cell_type": "code",
      "execution_count": 1,
      "metadata": {},
      "outputs": [
        {
          "name": "stdout",
          "output_type": "stream",
          "text": [
            "3\n"
          ]
        }
      ],
      "source": [
        "word=\"banana\"\n",
        "count=0\n",
        "for letter in word:\n",
        "    if letter == \"a\":\n",
        "        count=count+1\n",
        "print(count) "
      ]
    },
    {
      "cell_type": "markdown",
      "metadata": {},
      "source": [
        "Encapsulate the code above in a function named `count(w,l,s)` that counts the number of times a letter `l` appears in a word `w`. Additionally, `s` gives the index in `w` where it should start the search."
      ]
    },
    {
      "cell_type": "code",
      "execution_count": null,
      "metadata": {},
      "outputs": [],
      "source": []
    },
    {
      "cell_type": "markdown",
      "metadata": {},
      "source": [
        "c) Generate a random integer between 1 and 10. Write a guessing game where the user has to guess the secret number. After every guess, the program tells the user whether their number was too large or too small. At the end the number of tries needed should be printed.\n",
        "\n",
        "* **Hint**: Use the function [`randint()`](https://docs.python.org/3/library/random.html) provided in the `random` module to randomly draw integers. Also use `input()`."
      ]
    },
    {
      "cell_type": "code",
      "execution_count": null,
      "metadata": {},
      "outputs": [],
      "source": []
    },
    {
      "cell_type": "markdown",
      "metadata": {},
      "source": [
        "## Exercise 2: User Input, Integers and Strings"
      ]
    },
    {
      "cell_type": "markdown",
      "metadata": {},
      "source": [
        "a) Define two strings 'string1' and 'string2' and describe what happens...,\n",
        "\n",
        "    * ... if you compare them with `==`, `>` and `<`,"
      ]
    },
    {
      "cell_type": "code",
      "execution_count": null,
      "metadata": {},
      "outputs": [],
      "source": []
    },
    {
      "cell_type": "markdown",
      "metadata": {},
      "source": [
        "    * ... if you test them with `in` and `not`,"
      ]
    },
    {
      "cell_type": "code",
      "execution_count": null,
      "metadata": {},
      "outputs": [],
      "source": []
    },
    {
      "cell_type": "markdown",
      "metadata": {},
      "source": [
        "b) Write a program that takes a string as a user input and only returns the letters that are present at an even index, e.g., the input `test run` would result in displaying `t`, `s`, and `u`, (**Hint**: `range()`)"
      ]
    },
    {
      "cell_type": "code",
      "execution_count": null,
      "metadata": {},
      "outputs": [],
      "source": []
    },
    {
      "cell_type": "markdown",
      "metadata": {},
      "source": [
        "c) Accept two integer values from the user and return their product. If the product is greater than 1000, then return their sum. \n",
        "\n",
        "* **Hint**: `isnumeric()`."
      ]
    },
    {
      "cell_type": "code",
      "execution_count": null,
      "metadata": {},
      "outputs": [],
      "source": []
    }
  ],
  "metadata": {
    "kernelspec": {
      "display_name": "base",
      "language": "python",
      "name": "python3"
    },
    "language_info": {
      "codemirror_mode": {
        "name": "ipython",
        "version": 3
      },
      "file_extension": ".py",
      "mimetype": "text/x-python",
      "name": "python",
      "nbconvert_exporter": "python",
      "pygments_lexer": "ipython3",
      "version": "3.10.16"
    }
  },
  "nbformat": 4,
  "nbformat_minor": 4
}
